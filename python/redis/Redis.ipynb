{
 "cells": [
  {
   "cell_type": "code",
   "execution_count": 3,
   "metadata": {},
   "outputs": [],
   "source": [
    "import redis"
   ]
  },
  {
   "cell_type": "code",
   "execution_count": 4,
   "metadata": {},
   "outputs": [],
   "source": [
    "r=redis.Redis(host='192.168.202.63',port=6379,password='123456')"
   ]
  },
  {
   "cell_type": "code",
   "execution_count": 5,
   "metadata": {},
   "outputs": [
    {
     "name": "stdout",
     "output_type": "stream",
     "text": [
      "key:set-key\n",
      "key:list-key\n",
      "key:k1\n",
      "key:zset-key\n",
      "key:list-key-test\n",
      "key:hash-key\n",
      "key:my\n"
     ]
    }
   ],
   "source": [
    "for key in r.keys(\"*\"):\n",
    "    print(\"key:{k}\".format(k=key.decode())) #对应所有的key的值"
   ]
  },
  {
   "cell_type": "code",
   "execution_count": 6,
   "metadata": {},
   "outputs": [
    {
     "name": "stdout",
     "output_type": "stream",
     "text": [
      "get Key From k1: val\n",
      "get Key From k2: None\n"
     ]
    }
   ],
   "source": [
    "r.set(\"k1\", \"val\")\n",
    "# Get STRING \n",
    "val = r.get(\"k1\")\n",
    "print(\"get Key From k1:\", val.decode())\n",
    "# None Existence\n",
    "val = r.get(\"k2\")\n",
    "print(\"get Key From k2:\", val)"
   ]
  },
  {
   "cell_type": "code",
   "execution_count": 7,
   "metadata": {},
   "outputs": [
    {
     "name": "stdout",
     "output_type": "stream",
     "text": [
      "True\n",
      "value\n",
      "1\n"
     ]
    }
   ],
   "source": [
    "# Set STRING / GET STRING / Delete STRING\n",
    "print(r.set(\"test1\",\"value\"))\n",
    "print(r.get(\"test1\").decode())\n",
    "print(r.delete(\"test1\"))"
   ]
  },
  {
   "cell_type": "code",
   "execution_count": 8,
   "metadata": {},
   "outputs": [
    {
     "name": "stdout",
     "output_type": "stream",
     "text": [
      "right push: 1\n",
      "right push: 2\n",
      "right push: 3\n"
     ]
    }
   ],
   "source": [
    "# GET LIST\n",
    "r.delete(\"list-key-test\")\n",
    "print(\"right push:\",r.rpush(\"list-key-test\",\"admin1\"))\n",
    "print(\"right push:\",r.rpush(\"list-key-test\",\"admin2\"))\n",
    "print(\"right push:\",r.rpush(\"list-key-test\",\"admin3\"))"
   ]
  },
  {
   "cell_type": "code",
   "execution_count": 9,
   "metadata": {},
   "outputs": [
    {
     "name": "stdout",
     "output_type": "stream",
     "text": [
      "show Arange: [b'admin1', b'admin2', b'admin3']\n",
      "show Arange: [b'admin1', b'admin2', b'admin3']\n"
     ]
    }
   ],
   "source": [
    "# GET LIST ARANGE\n",
    "print(\"show Arange:\",r.lrange(\"list-key-test\",0, -1))\n",
    "print(\"show Arange:\",r.lrange(\"list-key-test\",0, 4))"
   ]
  },
  {
   "cell_type": "code",
   "execution_count": 10,
   "metadata": {},
   "outputs": [
    {
     "name": "stdout",
     "output_type": "stream",
     "text": [
      "remove Right key: admin3\n",
      "After Remove [b'admin1', b'admin2']\n"
     ]
    }
   ],
   "source": [
    "print(\"remove Right key:\", r.rpop(\"list-key-test\").decode())\n",
    "print(\"After Remove\",r.lrange(\"list-key-test\",0,-1))"
   ]
  },
  {
   "cell_type": "code",
   "execution_count": 11,
   "metadata": {},
   "outputs": [
    {
     "name": "stdout",
     "output_type": "stream",
     "text": [
      "left push: 1\n",
      "left push: 2\n",
      "left push: 3\n",
      "show Arange: [b'admin3', b'admin2', b'admin1']\n",
      "show Arange: [b'admin3', b'admin2', b'admin1']\n"
     ]
    }
   ],
   "source": [
    "r.delete(\"list-key-test\")\n",
    "print(\"left push:\",r.lpush(\"list-key-test\",\"admin1\"))\n",
    "print(\"left push:\",r.lpush(\"list-key-test\",\"admin2\"))\n",
    "print(\"left push:\",r.lpush(\"list-key-test\",\"admin3\"))\n",
    "# GET LIST ARANGE\n",
    "print(\"show Arange:\",r.lrange(\"list-key-test\",0, -1))\n",
    "print(\"show Arange:\",r.lrange(\"list-key-test\",0, 4))"
   ]
  },
  {
   "cell_type": "code",
   "execution_count": 14,
   "metadata": {},
   "outputs": [
    {
     "name": "stdout",
     "output_type": "stream",
     "text": [
      "b'ok' <class 'bytes'>\n",
      "b'ok' <class 'bytes'>\n",
      "None <class 'NoneType'>\n"
     ]
    }
   ],
   "source": [
    "import time\n",
    "r.set('key1', 'ok')\n",
    "print(r.get('key1'), type(r.get('key1')))\n",
    "r.expire('key1',1)\n",
    "print(r.get('key1'), type(r.get('key1')))\n",
    "time.sleep(1)\n",
    "print(r.get('key1'), type(r.get('key1')))"
   ]
  },
  {
   "cell_type": "code",
   "execution_count": 15,
   "metadata": {},
   "outputs": [
    {
     "data": {
      "text/plain": [
       "True"
      ]
     },
     "execution_count": 15,
     "metadata": {},
     "output_type": "execute_result"
    }
   ],
   "source": [
    "r.set('key2', 15)"
   ]
  },
  {
   "cell_type": "code",
   "execution_count": 19,
   "metadata": {},
   "outputs": [
    {
     "name": "stdout",
     "output_type": "stream",
     "text": [
      "25 <class 'bytes'>\n",
      "30 <class 'bytes'>\n",
      "31 b'31'\n"
     ]
    }
   ],
   "source": [
    "print(r.get('key2').decode(), type(r.get('key2')))\n",
    "r.incr('key2',5)\n",
    "print(r.get('key2').decode(), type(r.get('key2')))\n",
    "print(r.incr('key2'), r.get('key2'))"
   ]
  },
  {
   "cell_type": "code",
   "execution_count": 38,
   "metadata": {},
   "outputs": [
    {
     "name": "stdout",
     "output_type": "stream",
     "text": [
      "b'a'\n",
      "b'abcd'\n",
      "b'abcd123'\n",
      "b'1123'\n"
     ]
    }
   ],
   "source": [
    "#Append 命令只会将所有数据转化为字符串数据进行操作\n",
    "r.set('key3','a')\n",
    "print(r.get('key3'))\n",
    "r.append('key3','bcd')\n",
    "print(r.get('key3'))\n",
    "r.append('key3',123)\n",
    "print(r.get('key3'))\n",
    "#Append 命令只会将所有数据转化为字符串数据进行操作\n",
    "r.set('key3', 1)\n",
    "r.append('key3', 123)\n",
    "print(r.get('key3'))"
   ]
  },
  {
   "cell_type": "code",
   "execution_count": 35,
   "metadata": {},
   "outputs": [
    {
     "name": "stdout",
     "output_type": "stream",
     "text": [
      "b'q12'\n",
      "b'12'\n"
     ]
    }
   ],
   "source": [
    "# get SubStr(From, To) 是Index 索引\n",
    "print(r.substr('key3', 0, 2))\n",
    "print(r.substr('key3', 1, 2))"
   ]
  },
  {
   "cell_type": "code",
   "execution_count": 39,
   "metadata": {},
   "outputs": [
    {
     "name": "stdout",
     "output_type": "stream",
     "text": [
      "Before setrange\t b'1123'\n",
      "After setrange\t b'112ok'\n"
     ]
    }
   ],
   "source": [
    "# setRange 设置 [key, From, ReplaceString] 从From之后的数据设置为 ReplaceString\n",
    "print(\"Before setrange\\t\", r.get('key3'))\n",
    "r.setrange('key3', 3, 'ok')\n",
    "print(\"After setrange\\t\",r.get('key3'))"
   ]
  },
  {
   "cell_type": "code",
   "execution_count": 46,
   "metadata": {},
   "outputs": [
    {
     "name": "stdout",
     "output_type": "stream",
     "text": [
      "Before Setbit\t b'123456'\n",
      "0\n",
      "After Setbit\t b'q23456'\n"
     ]
    }
   ],
   "source": [
    "# setBit\n",
    "r.set('key3','123456')\n",
    "print(\"Before Setbit\\t\", r.get('key3'))\n",
    "print(r.setbit('key3', 1, 1))\n",
    "print(\"After Setbit\\t\", r.get('key3'))\n"
   ]
  },
  {
   "cell_type": "code",
   "execution_count": 53,
   "metadata": {},
   "outputs": [
    {
     "name": "stdout",
     "output_type": "stream",
     "text": [
      "[b'iterm-0', b'iterm-1', b'iterm-2']\n",
      "[b'iterm-1', b'iterm-2']\n",
      "[b'iterm-2']\n",
      "[]\n"
     ]
    }
   ],
   "source": [
    "# 列表\n",
    "conn = r\n",
    "conn.delete('key4')\n",
    "conn.rpush('key4', 'iterm-0')\n",
    "conn.rpush('key4', 'iterm-1')\n",
    "conn.rpush('key4', 'iterm-2')\n",
    "print(conn.lrange('key4', 0, -1))\n",
    "print(conn.lrange('key4', 1, -1))\n",
    "print(conn.lrange('key4', 2, -1))\n",
    "print(conn.lrange('key4', 3, -1))"
   ]
  },
  {
   "cell_type": "code",
   "execution_count": 74,
   "metadata": {},
   "outputs": [
    {
     "name": "stdout",
     "output_type": "stream",
     "text": [
      "show Set number:  3\n",
      "remove Item(d) Number: 0\n",
      "remove Item(a) Number: 1\n",
      "a is member : False\n",
      "b is member : True\n",
      "show key5's set all {b'c', b'b'} <class 'set'>\n",
      "show key6's set all {b'c', b'd', b'b', b'a'}\n",
      "diff key5 and key6 key5-key6 set()\n",
      "diff key5 and key6 key6-key5 {b'd', b'a'}\n",
      "key5 ∩ key6 {b'c', b'b'}\n",
      "0\n",
      "key7: []\n",
      "key5 ∪ key6 {b'c', b'd', b'b', b'a'}\n"
     ]
    }
   ],
   "source": [
    "# 集合\n",
    "conn.delete('key5')\n",
    "conn.sadd('key5', 'a', 'b', 'c') # 添加集合\n",
    "print(\"show Set number: \", conn.scard('key5'))\n",
    "print(\"remove Item(d) Number:\",conn.srem('key5', 'd'))\n",
    "print(\"remove Item(a) Number:\",conn.srem('key5', 'a'))\n",
    "print(\"a is member :\", conn.sismember('key5', 'a'))\n",
    "print(\"b is member :\", conn.sismember('key5', 'b'))\n",
    "print(\"show key5's set all\", conn.smembers('key5'), type(conn.smembers('key5')))\n",
    "conn.delete('key6')\n",
    "conn.sadd('key6', 'a', 'b', 'c','d') # 添加集合\n",
    "print(\"show key6's set all\", conn.smembers('key6'))\n",
    "# sdiff 做差集运算\n",
    "print(\"diff key5 and key6 key5-key6\", conn.sdiff('key5','key6'))\n",
    "print(\"diff key5 and key6 key6-key5\", conn.sdiff('key6','key5'))\n",
    "# sinter 做交集计算\n",
    "print(\"key5 ∩ key6\", conn.sinter('key5','key6'))\n",
    "# sinterstore 将两者并集部分存储在key7\n",
    "print(conn.sinterstore('key5','key6','key7'))\n",
    "print('key7:', conn.lrange('key7',0,-1))\n",
    "# sunion 做并集计算\n",
    "print(\"key5 ∪ key6\", conn.sunion('key5','key6'))"
   ]
  },
  {
   "cell_type": "code",
   "execution_count": 88,
   "metadata": {},
   "outputs": [
    {
     "name": "stdout",
     "output_type": "stream",
     "text": [
      "hash set key7 True\n",
      "hash get key7->k1 [b'v1']\n",
      "hash get key7->[k1,k2] [b'v1', b'v2']\n",
      "hash get key7 length 2\n",
      "hash del key7->k1 1\n",
      "hash get key7 all {b'k2': b'v2'}\n",
      "------------------------------\n",
      "hash keys  [b'short', b'long']\n",
      "hash key num exists False\n",
      "hash incr by 1\n",
      "hash key num exists True\n",
      "get val [b'1']\n"
     ]
    }
   ],
   "source": [
    "# 散列\n",
    "conn.delete('key7')\n",
    "print(\"hash set key7\", conn.hmset('key7', {'k1':'v1','k2':'v2'}))\n",
    "print(\"hash get key7->k1\", conn.hmget('key7','k1'))\n",
    "print(\"hash get key7->[k1,k2]\", conn.hmget('key7', ['k1','k2']))\n",
    "print(\"hash get key7 length\", conn.hlen('key7'))\n",
    "print(\"hash del key7->k1\", conn.hdel('key7', 'k1'))\n",
    "print(\"hash get key7 all\", conn.hgetall('key7'))\n",
    "print('------------------------------')\n",
    "# keys *\n",
    "conn.delete('key7')\n",
    "conn.hmset('key7', {'short':'hello', 'long': '10000'})\n",
    "print(\"hash keys \", conn.hkeys('key7'))\n",
    "print(\"hash key num exists\", conn.hexists('key7', 'num'))\n",
    "print(\"hash incr by\", conn.hincrby('key7', 'num'))\n",
    "print(\"hash key num exists\", conn.hexists('key7', 'num'))\n",
    "print(\"get val\", conn.hmget('key7', 'num'))"
   ]
  },
  {
   "cell_type": "code",
   "execution_count": 113,
   "metadata": {},
   "outputs": [
    {
     "name": "stdout",
     "output_type": "stream",
     "text": [
      "sorted add 2\n",
      "card sorted set size 2\n",
      "show sorted range set [(b'b', 3.0), (b'a', 4.0)]\n",
      "get score for a 4.0\n",
      "add {\"c\":12} 1\n",
      "show sorted range set [(b'b', 3.0), (b'a', 4.0), (b'c', 12.0)]\n",
      "zrank a 1\n",
      "zrank b 0\n",
      "zrank c 2\n",
      "zcount  2\n"
     ]
    }
   ],
   "source": [
    "# 有序集合\n",
    "conn.delete('key8')\n",
    "print('sorted add', conn.zadd('key8', {'a': 4, 'b':3}))\n",
    "print('card sorted set size', conn.zcard('key8'))\n",
    "print('show sorted range set', conn.zrange('key8', 0, -1, withscores=True))\n",
    "print('get score for a', conn.zscore('key8','a'))\n",
    "print('add {\"c\":12}', conn.zadd('key8', {'c': 12}))\n",
    "print('show sorted range set', conn.zrange('key8', 0, -1, withscores=True))\n",
    "# order by ↑\n",
    "print('zrank a', conn.zrank('key8', 'a'))\n",
    "print('zrank b', conn.zrank('key8', 'b'))\n",
    "print('zrank c', conn.zrank('key8', 'c'))\n",
    "# 计数 zcount(key, min, max) 之间的数据个数\n",
    "print('zcount ', conn.zcount('key8', 0, 10))"
   ]
  },
  {
   "cell_type": "code",
   "execution_count": 115,
   "metadata": {},
   "outputs": [
    {
     "name": "stdout",
     "output_type": "stream",
     "text": [
      "0.1\n"
     ]
    }
   ],
   "source": []
  },
  {
   "cell_type": "code",
   "execution_count": null,
   "metadata": {},
   "outputs": [],
   "source": []
  }
 ],
 "metadata": {
  "kernelspec": {
   "display_name": "Python 3",
   "language": "python",
   "name": "python3"
  },
  "language_info": {
   "codemirror_mode": {
    "name": "ipython",
    "version": 3
   },
   "file_extension": ".py",
   "mimetype": "text/x-python",
   "name": "python",
   "nbconvert_exporter": "python",
   "pygments_lexer": "ipython3",
   "version": "3.6.8"
  }
 },
 "nbformat": 4,
 "nbformat_minor": 4
}
